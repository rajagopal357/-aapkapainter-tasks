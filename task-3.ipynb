{
 "cells": [
  {
   "cell_type": "code",
   "execution_count": null,
   "metadata": {},
   "outputs": [],
   "source": [
    "# Write a code that checks if two given strings are anagrams\n",
    "# Sample Input: Mary Army\n",
    "# Output: Yes\n",
    "\n",
    "import re\n",
    "s = 'Mary Army'\n",
    "s1,s2 = re.split(' ',s)\n",
    "if(sorted(s1.lower())==sorted(s2.lower())):\n",
    "      print(\"yes\")\n",
    "else:\n",
    "    print(\"no\")"
   ]
  }
 ],
 "metadata": {
  "kernelspec": {
   "display_name": "Python 3",
   "language": "python",
   "name": "python3"
  },
  "language_info": {
   "codemirror_mode": {
    "name": "ipython",
    "version": 3
   },
   "file_extension": ".py",
   "mimetype": "text/x-python",
   "name": "python",
   "nbconvert_exporter": "python",
   "pygments_lexer": "ipython3",
   "version": "3.6.7"
  }
 },
 "nbformat": 4,
 "nbformat_minor": 2
}
