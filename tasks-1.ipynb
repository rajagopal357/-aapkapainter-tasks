{
 "cells": [
  {
   "cell_type": "code",
   "execution_count": 3,
   "metadata": {},
   "outputs": [
    {
     "name": "stdout",
     "output_type": "stream",
     "text": [
      "2\n"
     ]
    }
   ],
   "source": [
    "# Write a code that prints out the first occurrence of a duplicate in a given array of integers\n",
    "# Sample Input: [1,2,3,2,1]\n",
    "# Output: 2\n",
    "\n",
    "def find_first_duplicate(nums):\n",
    "    num_set = set()\n",
    "    no_duplicate = -1\n",
    "\n",
    "    for i in range(len(nums)):\n",
    "\n",
    "        if nums[i] in num_set:\n",
    "            return nums[i]\n",
    "        else:\n",
    "            num_set.add(nums[i])\n",
    "\n",
    "    return no_duplicate\n",
    "\n",
    "print(find_first_duplicate([1,2,3,2,1]))"
   ]
  },
  {
   "cell_type": "code",
   "execution_count": null,
   "metadata": {},
   "outputs": [],
   "source": []
  }
 ],
 "metadata": {
  "kernelspec": {
   "display_name": "Python 3",
   "language": "python",
   "name": "python3"
  },
  "language_info": {
   "codemirror_mode": {
    "name": "ipython",
    "version": 3
   },
   "file_extension": ".py",
   "mimetype": "text/x-python",
   "name": "python",
   "nbconvert_exporter": "python",
   "pygments_lexer": "ipython3",
   "version": "3.6.7"
  }
 },
 "nbformat": 4,
 "nbformat_minor": 5
}
